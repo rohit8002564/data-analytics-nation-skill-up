{
 "cells": [
  {
   "cell_type": "code",
   "execution_count": 1,
   "id": "b72046e6-5273-439b-aeee-bbf25b30bfb5",
   "metadata": {},
   "outputs": [],
   "source": [
    "import pandas as pd"
   ]
  },
  {
   "cell_type": "code",
   "execution_count": 9,
   "id": "85eaf49d-b3fc-46e0-8567-b461ff38f0e7",
   "metadata": {},
   "outputs": [
    {
     "name": "stdout",
     "output_type": "stream",
     "text": [
      "Original DataFrame\n",
      "     Name  Marks       City\n",
      "0   Rohit     87       Pune\n",
      "1    Ravi     75  Bangalore\n",
      "2  Rakesh     89     Mumbai\n",
      "3   Rajat     90    Kolkata\n",
      "4   Bantu     85      Delhi\n",
      "5   Rohit     87       Pune\n"
     ]
    }
   ],
   "source": [
    "data = { 'Name': ['Rohit','Ravi','Rakesh','Rajat','Bantu','Rohit'],\n",
    "         'Marks': [87,75,89,90,85,87],\n",
    "         'City': ['Pune','Bangalore','Mumbai','Kolkata','Delhi','Pune']}\n",
    "df = pd.DataFrame(data)\n",
    "print(\"Original DataFrame\")\n",
    "print(df)"
   ]
  },
  {
   "cell_type": "markdown",
   "id": "fbd6a6a3-0883-412b-abf9-6f51927be672",
   "metadata": {},
   "source": [
    "# Find Dupicate "
   ]
  },
  {
   "cell_type": "code",
   "execution_count": 16,
   "id": "9fda8dbb-f0b5-4c05-89bc-3248f56c6fb0",
   "metadata": {},
   "outputs": [
    {
     "name": "stdout",
     "output_type": "stream",
     "text": [
      "0    False\n",
      "1    False\n",
      "2    False\n",
      "3    False\n",
      "4    False\n",
      "5     True\n",
      "dtype: bool\n"
     ]
    }
   ],
   "source": [
    "print(df.duplicated())"
   ]
  },
  {
   "cell_type": "markdown",
   "id": "33f1722b-1dda-4634-9940-2799dfd69b41",
   "metadata": {},
   "source": [
    "# Display Only Dupicate Rows"
   ]
  },
  {
   "cell_type": "code",
   "execution_count": 18,
   "id": "a7f101c9-7d3a-41c4-b2e6-90d8772bad32",
   "metadata": {},
   "outputs": [
    {
     "name": "stdout",
     "output_type": "stream",
     "text": [
      "    Name  Marks  City\n",
      "5  Rohit     87  Pune\n"
     ]
    }
   ],
   "source": [
    "print(df[df.duplicated()])"
   ]
  },
  {
   "cell_type": "markdown",
   "id": "900ddd9c-5526-4fc4-b2e5-e2c768f56ec2",
   "metadata": {},
   "source": [
    "# Remove Dupicates"
   ]
  },
  {
   "cell_type": "code",
   "execution_count": 19,
   "id": "b9575623-e055-45d2-a27d-7c12f812b3a2",
   "metadata": {},
   "outputs": [
    {
     "name": "stdout",
     "output_type": "stream",
     "text": [
      "     Name  Marks       City\n",
      "0   Rohit     87       Pune\n",
      "1    Ravi     75  Bangalore\n",
      "2  Rakesh     89     Mumbai\n",
      "3   Rajat     90    Kolkata\n",
      "4   Bantu     85      Delhi\n"
     ]
    }
   ],
   "source": [
    "df_unique = df.drop_duplicates()\n",
    "print(df_unique)"
   ]
  },
  {
   "cell_type": "markdown",
   "id": "69b2b7a2-a3a8-4a7a-bb99-104124b43db6",
   "metadata": {},
   "source": [
    "# df.drop_duplicates(keep='last')"
   ]
  },
  {
   "cell_type": "code",
   "execution_count": 20,
   "id": "3ed5a181-864b-47d4-a98a-8d0eb4f39f42",
   "metadata": {},
   "outputs": [
    {
     "name": "stdout",
     "output_type": "stream",
     "text": [
      "     Name  Marks       City\n",
      "1    Ravi     75  Bangalore\n",
      "2  Rakesh     89     Mumbai\n",
      "3   Rajat     90    Kolkata\n",
      "4   Bantu     85      Delhi\n",
      "5   Rohit     87       Pune\n"
     ]
    }
   ],
   "source": [
    "#Removes duplicate rows, but keeps the last occurrence instead of the first.\n",
    "\n",
    "df_unique_last = df.drop_duplicates(keep='last')\n",
    "print(df_unique_last)"
   ]
  },
  {
   "cell_type": "markdown",
   "id": "6d76ed9b-5801-400d-a5f0-ab2e6fd4a0e0",
   "metadata": {},
   "source": [
    "# df.duplicated(subset=['Name', 'City'])"
   ]
  },
  {
   "cell_type": "code",
   "execution_count": 22,
   "id": "041bb8c1-5ba2-4877-a50b-2c659a99d8c9",
   "metadata": {},
   "outputs": [
    {
     "name": "stdout",
     "output_type": "stream",
     "text": [
      "0    False\n",
      "1    False\n",
      "2    False\n",
      "3    False\n",
      "4    False\n",
      "5     True\n",
      "dtype: bool\n"
     ]
    }
   ],
   "source": [
    "#Check for duplicates only based on specific columns (Name and City), ignoring Marks.\n",
    "print(df.duplicated(subset=['Name', 'City']))"
   ]
  },
  {
   "cell_type": "code",
   "execution_count": null,
   "id": "29b17fdd-1a4a-4e49-836e-29bd3ecfb5a0",
   "metadata": {},
   "outputs": [],
   "source": []
  }
 ],
 "metadata": {
  "kernelspec": {
   "display_name": "Python 3 (ipykernel)",
   "language": "python",
   "name": "python3"
  },
  "language_info": {
   "codemirror_mode": {
    "name": "ipython",
    "version": 3
   },
   "file_extension": ".py",
   "mimetype": "text/x-python",
   "name": "python",
   "nbconvert_exporter": "python",
   "pygments_lexer": "ipython3",
   "version": "3.12.7"
  }
 },
 "nbformat": 4,
 "nbformat_minor": 5
}
